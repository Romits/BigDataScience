{
 "metadata": {
  "name": ""
 },
 "nbformat": 3,
 "nbformat_minor": 0,
 "worksheets": [
  {
   "cells": [
    {
     "cell_type": "heading",
     "level": 4,
     "metadata": {},
     "source": [
      "Notebook for the anamoly detection in the US medicare data for year 2011. I have used Mahanabolis distances to find the most\n",
      "anamolous regions. The data for this analysis is available at the following url:\n",
      "\n",
      "\n",
      "http://www.cms.gov/Research-Statistics-Data-and-Systems/Statistics-Trends-and-Reports/Medicare-Provider-Charge-Data/Inpatient2011.html\n",
      "\n",
      "\n",
      "\n",
      "http://www.cms.gov/Research-Statistics-Data-and-Systems/Statistics-Trends-and-Reports/Medicare-Provider-Charge-Data/Outpatient2011.html"
     ]
    },
    {
     "cell_type": "code",
     "collapsed": false,
     "input": [
      "%pylab inline\n",
      "import pandas as pd\n",
      "import numpy as np\n",
      "import pylab as pl\n",
      "import matplotlib.font_manager\n",
      "import matplotlib.pyplot as plt\n",
      "from scipy import stats\n",
      "\n",
      "from sklearn import preprocessing\n",
      "\n",
      "from sklearn.covariance import MinCovDet\n",
      "\n",
      "import warnings\n",
      "warnings.filterwarnings('ignore')\n"
     ],
     "language": "python",
     "metadata": {},
     "outputs": [
      {
       "output_type": "stream",
       "stream": "stdout",
       "text": [
        "Populating the interactive namespace from numpy and matplotlib\n"
       ]
      }
     ],
     "prompt_number": 1
    },
    {
     "cell_type": "heading",
     "level": 4,
     "metadata": {},
     "source": [
      "Loading the inpatient and outpatient csv files for US medicare data for 2011"
     ]
    },
    {
     "cell_type": "code",
     "collapsed": false,
     "input": [
      "\n",
      "\n",
      "dataOutPatients = pd.read_table('./data/Medicare_Provider_Charge_Outpatient_APC30_CY2011_v2.csv', delimiter=',', \\\n",
      "                                index_col=False, header=None, skiprows=1, \n",
      "names=['ProcCode','ProvId','ProvName', 'ProvStreetAdd','ProvCity','ProvState', 'ProvZipCode','HRR','TotDischarge',\\\n",
      "       'AvgCovCharges','AvgTotPaymentIncMedicare'])\n",
      "\n",
      "dataInPatients = pd.read_table('./data/Medicare_Provider_Charge_Inpatient_DRG100_FY2011.csv', delimiter=',', \\\n",
      "                                index_col=False, header=None, skiprows=1,\\\n",
      "names=['ProcCode','ProvId','ProvName', 'ProvStreetAdd','ProvCity','ProvState', 'ProvZipCode','HRR','TotDischarge',\\\n",
      "       'AvgCovCharges','AvgTotPaymentIncMedicare'])"
     ],
     "language": "python",
     "metadata": {},
     "outputs": [],
     "prompt_number": 2
    },
    {
     "cell_type": "heading",
     "level": 4,
     "metadata": {},
     "source": [
      "Combining the two datasets"
     ]
    },
    {
     "cell_type": "code",
     "collapsed": false,
     "input": [
      "dataPatients = pd.concat([dataOutPatients, dataInPatients], axis=0)\n"
     ],
     "language": "python",
     "metadata": {},
     "outputs": [],
     "prompt_number": 3
    },
    {
     "cell_type": "code",
     "collapsed": false,
     "input": [
      "\n",
      "\n",
      "dataPatientProcCode = dataPatients[['ProcCode','HRR','TotDischarge','AvgCovCharges','AvgTotPaymentIncMedicare']]\n",
      "\n",
      "\n",
      "\n"
     ],
     "language": "python",
     "metadata": {},
     "outputs": [],
     "prompt_number": 4
    },
    {
     "cell_type": "heading",
     "level": 4,
     "metadata": {},
     "source": [
      "Grouping the datasets by Regions"
     ]
    },
    {
     "cell_type": "code",
     "collapsed": false,
     "input": [
      "groupedPatientData = dataPatientProcCode.groupby(['HRR'])\n",
      "\n",
      "\n",
      "dfStats = pd.DataFrame(np.zeros(0,dtype=[('HRR', 'string'), ('Mean', 'float64'), ('MeanRem','float64')]))\n",
      "\n",
      "\n"
     ],
     "language": "python",
     "metadata": {},
     "outputs": [],
     "prompt_number": 5
    },
    {
     "cell_type": "heading",
     "level": 4,
     "metadata": {},
     "source": [
      "Generating the features"
     ]
    },
    {
     "cell_type": "code",
     "collapsed": false,
     "input": [
      "for name, group in groupedPatientData:\n",
      "    totalAmount = 0.0\n",
      "    totalCount = 0.0\n",
      "    totalSqDiff = 0.0\n",
      "    groupData = groupedPatientData.get_group(name)\n",
      "    mean = (groupData['AvgCovCharges'] * groupData['TotDischarge']).sum()/groupData['TotDischarge'].sum()\n",
      "    meanRem = (groupData['AvgTotPaymentIncMedicare'] * groupData['TotDischarge']).sum()/groupData['TotDischarge'].sum()   \n",
      "    dfStats = dfStats.append({'HRR':name, 'Mean':mean, 'MeanRem':meanRem},ignore_index=True)\n",
      "    \n",
      "    \n",
      "        \n",
      "    \n",
      "        \n",
      "    "
     ],
     "language": "python",
     "metadata": {},
     "outputs": [],
     "prompt_number": 6
    },
    {
     "cell_type": "code",
     "collapsed": false,
     "input": [
      "dfStats['Mean'] = dfStats['Mean'].astype('float64')\n",
      "\n",
      "dfStats['MeanRem'] = dfStats['MeanRem'].astype('float64')"
     ],
     "language": "python",
     "metadata": {},
     "outputs": [],
     "prompt_number": 7
    },
    {
     "cell_type": "heading",
     "level": 4,
     "metadata": {},
     "source": [
      "Scaling and taking log for approximate normal distribution"
     ]
    },
    {
     "cell_type": "code",
     "collapsed": false,
     "input": [
      "MeanFeature = preprocessing.scale(log(dfStats.Mean), with_std=False)\n",
      "\n",
      "dfStats['MeanFeature'] = MeanFeature\n",
      "\n",
      "MeanRemFeature = preprocessing.scale(log(dfStats.MeanRem), with_std=False)\n",
      "\n",
      "dfStats['MeanRemFeature'] = MeanRemFeature\n",
      "\n"
     ],
     "language": "python",
     "metadata": {},
     "outputs": [],
     "prompt_number": 8
    },
    {
     "cell_type": "heading",
     "level": 4,
     "metadata": {},
     "source": [
      "Histogram for feature mean billed amount"
     ]
    },
    {
     "cell_type": "code",
     "collapsed": false,
     "input": [
      "dfStats['MeanFeature'].hist()\n",
      "\n",
      "\n",
      "\n",
      "\n"
     ],
     "language": "python",
     "metadata": {},
     "outputs": [
      {
       "metadata": {},
       "output_type": "pyout",
       "prompt_number": 9,
       "text": [
        "<matplotlib.axes._subplots.AxesSubplot at 0x1057df710>"
       ]
      },
      {
       "metadata": {},
       "output_type": "display_data",
       "png": "[encoded data removed]",
       "text": [
        "<matplotlib.figure.Figure at 0x108bc75d0>"
       ]
      }
     ],
     "prompt_number": 9
    },
    {
     "cell_type": "heading",
     "level": 4,
     "metadata": {},
     "source": [
      "Histogram for feature mean reimbursed amount"
     ]
    },
    {
     "cell_type": "code",
     "collapsed": false,
     "input": [
      "dfStats['MeanRemFeature'].hist()"
     ],
     "language": "python",
     "metadata": {},
     "outputs": [
      {
       "metadata": {},
       "output_type": "pyout",
       "prompt_number": 10,
       "text": [
        "<matplotlib.axes._subplots.AxesSubplot at 0x109178d50>"
       ]
      },
      {
       "metadata": {},
       "output_type": "display_data",
       "png": "[encoded data removed]",
       "text": [
        "<matplotlib.figure.Figure at 0x10919d850>"
       ]
      }
     ],
     "prompt_number": 10
    },
    {
     "cell_type": "code",
     "collapsed": false,
     "input": [
      "meanFeatureArray = dfStats['MeanFeature'].values\n",
      "\n",
      "meanRemFeatureArray = dfStats['MeanRemFeature'].values\n"
     ],
     "language": "python",
     "metadata": {},
     "outputs": [],
     "prompt_number": 11
    },
    {
     "cell_type": "code",
     "collapsed": false,
     "input": [
      "inputFeatureArray = array([meanFeatureArray,meanRemFeatureArray]).T"
     ],
     "language": "python",
     "metadata": {},
     "outputs": [],
     "prompt_number": 12
    },
    {
     "cell_type": "heading",
     "level": 4,
     "metadata": {},
     "source": [
      "Calculating the Minimum Covariance Determinant(MCD) and Mahanabolis Distances"
     ]
    },
    {
     "cell_type": "code",
     "collapsed": false,
     "input": [
      "robust_cov = MinCovDet(assume_centered=True).fit(inputFeatureArray)\n",
      "\n",
      "mahal_rob_cov = robust_cov.mahalanobis(inputFeatureArray)"
     ],
     "language": "python",
     "metadata": {},
     "outputs": [],
     "prompt_number": 13
    },
    {
     "cell_type": "code",
     "collapsed": false,
     "input": [
      "dfStats['MDist'] =  mahal_rob_cov"
     ],
     "language": "python",
     "metadata": {},
     "outputs": [],
     "prompt_number": 14
    },
    {
     "cell_type": "heading",
     "level": 4,
     "metadata": {},
     "source": [
      "Sort and display the top three anamolous regions using the Mahanabolis distance measure"
     ]
    },
    {
     "cell_type": "code",
     "collapsed": false,
     "input": [
      "result = dfStats.sort(column='MDist', ascending=False)"
     ],
     "language": "python",
     "metadata": {},
     "outputs": [],
     "prompt_number": 15
    },
    {
     "cell_type": "code",
     "collapsed": false,
     "input": [
      "result = result.reset_index(drop=True)"
     ],
     "language": "python",
     "metadata": {},
     "outputs": [],
     "prompt_number": 25
    },
    {
     "cell_type": "code",
     "collapsed": false,
     "input": [
      "result[['HRR','MDist']][:3]\n"
     ],
     "language": "python",
     "metadata": {},
     "outputs": [
      {
       "html": [
        "<div style=\"max-height:1000px;max-width:1500px;overflow:auto;\">\n",
        "<table border=\"1\" class=\"dataframe\">\n",
        "  <thead>\n",
        "    <tr style=\"text-align: right;\">\n",
        "      <th></th>\n",
        "      <th>HRR</th>\n",
        "      <th>MDist</th>\n",
        "    </tr>\n",
        "  </thead>\n",
        "  <tbody>\n",
        "    <tr>\n",
        "      <th>0</th>\n",
        "      <td>   MD - Baltimore</td>\n",
        "      <td> 47.626529</td>\n",
        "    </tr>\n",
        "    <tr>\n",
        "      <th>1</th>\n",
        "      <td> MD - Takoma Park</td>\n",
        "      <td> 46.104042</td>\n",
        "    </tr>\n",
        "    <tr>\n",
        "      <th>2</th>\n",
        "      <td>      TX - Temple</td>\n",
        "      <td> 20.769777</td>\n",
        "    </tr>\n",
        "  </tbody>\n",
        "</table>\n",
        "</div>"
       ],
       "metadata": {},
       "output_type": "pyout",
       "prompt_number": 26,
       "text": [
        "                HRR      MDist\n",
        "0    MD - Baltimore  47.626529\n",
        "1  MD - Takoma Park  46.104042\n",
        "2       TX - Temple  20.769777"
       ]
      }
     ],
     "prompt_number": 26
    },
    {
     "cell_type": "code",
     "collapsed": false,
     "input": [],
     "language": "python",
     "metadata": {},
     "outputs": []
    }
   ],
   "metadata": {}
  }
 ]
}